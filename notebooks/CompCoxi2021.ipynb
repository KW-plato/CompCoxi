{
  "nbformat": 4,
  "nbformat_minor": 0,
  "metadata": {
    "colab": {
      "name": "CompCoxi2021.ipynb",
      "provenance": [],
      "authorship_tag": "ABX9TyPfsYxlUY6/Hs2zIPmUWegH",
      "include_colab_link": true
    },
    "kernelspec": {
      "name": "python3",
      "display_name": "Python 3"
    },
    "language_info": {
      "name": "python"
    }
  },
  "cells": [
    {
      "cell_type": "markdown",
      "metadata": {
        "id": "view-in-github",
        "colab_type": "text"
      },
      "source": [
        "<a href=\"https://colab.research.google.com/github/KW-plato/CompCoxi/blob/main/notebooks/CompCoxi2021.ipynb\" target=\"_parent\"><img src=\"https://colab.research.google.com/assets/colab-badge.svg\" alt=\"Open In Colab\"/></a>"
      ]
    },
    {
      "cell_type": "markdown",
      "metadata": {
        "id": "T_g_UU1DsI70"
      },
      "source": [
        "\n",
        "**Create and upload master raw data file. Done.**\n",
        "\n",
        "Next Step:\n",
        "1. Calculate the metrics mentioned in the paper. \n",
        "Note: Develop and test script on small raw data files. Finally run on master raw data file to generate metrics for all subjects and all conditions."
      ]
    },
    {
      "cell_type": "markdown",
      "metadata": {
        "id": "k3dPLDYW8Pt9"
      },
      "source": [
        "**Set-up to access the datasets stored in GitHub repo**"
      ]
    },
    {
      "cell_type": "code",
      "metadata": {
        "colab": {
          "base_uri": "https://localhost:8080/"
        },
        "id": "FOpwr0W67yOS",
        "outputId": "18046535-f1aa-46b2-ec64-c408cb6bf571"
      },
      "source": [
        "!git clone https://github.com/KW-plato/CompCoxi.git"
      ],
      "execution_count": 52,
      "outputs": [
        {
          "output_type": "stream",
          "text": [
            "fatal: destination path 'CompCoxi' already exists and is not an empty directory.\n"
          ],
          "name": "stdout"
        }
      ]
    },
    {
      "cell_type": "code",
      "metadata": {
        "id": "JqVkSFkx8kgE"
      },
      "source": [
        "datasrc = \"/content/CompCoxi/Data\"\n",
        "resultsrc = \"/content/CompCoxi/Results\""
      ],
      "execution_count": 53,
      "outputs": []
    },
    {
      "cell_type": "code",
      "metadata": {
        "id": "Bwd2yl9B8_wS"
      },
      "source": [
        "import numpy as np\n",
        "import pandas as pd\n",
        "from ast import literal_eval\n",
        "from scipy.interpolate import interp1d\n",
        "import matplotlib.pyplot as plt\n",
        "from os import listdir, path\n",
        "import glob\n",
        "import seaborn as sns"
      ],
      "execution_count": 219,
      "outputs": []
    },
    {
      "cell_type": "code",
      "metadata": {
        "id": "eAja3LUP9B_Y"
      },
      "source": [
        "def standardize_x(x_list):\n",
        "    start = x_list[0]\n",
        "    end = x_list[-1]\n",
        "    if end > start:\n",
        "        return (x_list - start) / (end - start)\n",
        "    else:\n",
        "        return -1 * (x_list - start) / (end - start)\n",
        "\n",
        "def standardize_y(y_list):\n",
        "    start = y_list[0]\n",
        "    end = y_list[-1]\n",
        "    return 1.5 * (y_list - start) / (end - start)\n",
        "\n",
        "def time_normalize(row): #can access by column names too since the whole row has been passed.Using number indexing to generalize\n",
        "    f = interp1d(row[0], row[1])\n",
        "    return f(row[2])\n",
        "\n",
        "def flip_to_right_side(x_list): # y remains same. x gets flipped i.e negative x become positive, if end is on left i.e. (-1,1.5)\n",
        "    if x_list[-1] < 0:\n",
        "        return -1 * x_list\n",
        "    else:\n",
        "        return x_list\n",
        "\n",
        "\n",
        "def make_figure(data,f_name,title_data): # plot one trajectory per trial i.e per row of the dataframe\n",
        "    fig, ax = plt.subplots()\n",
        "    ax.set_title(\"Participant: {}, {}\".format(title_data[0], title_data[1]))\n",
        "    for i in range(data.shape[0]):\n",
        "        ax = plt.plot(data.iloc[i][0],data.iloc[i][1])\n",
        "    plt.savefig(path.join(resultsrc,'Trajectories', f_name))\n",
        "    plt.clf()\n",
        "    plt.close(fig)"
      ],
      "execution_count": 55,
      "outputs": []
    },
    {
      "cell_type": "markdown",
      "metadata": {
        "id": "kfK9wvAYEFwN"
      },
      "source": [
        "# **Preprocessing**\n",
        "\n",
        "1.   Rescaled trajectories into a standard coordinate space.\n",
        "2.   Time noormalization by re-sampling the time vector into\n",
        "101 time-bins and then using linear interpolation to get the co-ordinates\n",
        "3. Flip the endpoints of all trajectories flipped to the right\n",
        "\n"
      ]
    },
    {
      "cell_type": "code",
      "metadata": {
        "id": "owQPAOvX9WgU"
      },
      "source": [
        "participant_id = []"
      ],
      "execution_count": 56,
      "outputs": []
    },
    {
      "cell_type": "code",
      "metadata": {
        "id": "rj0FGPbkB0wI"
      },
      "source": [
        "# Create a list of all the csv files in the Data folder\n",
        "datafiles = glob.glob(path.join(datasrc, '*.csv'))\n"
      ],
      "execution_count": 57,
      "outputs": []
    },
    {
      "cell_type": "code",
      "metadata": {
        "id": "ObTxmdG09b2F"
      },
      "source": [
        "for idx,f in enumerate(datafiles):\n",
        "    df = pd.read_csv(path.join(datasrc,f))\n",
        "    #assign a participant code for each file, since raw data doesnt have this info. Save this for future reference\n",
        "    participant_id.append({\n",
        "        'file': f,\n",
        "        'participant_id': idx + 1\n",
        "    })\n",
        "    f = f.rstrip('.csv')\n",
        "    df = df[df['Condition'].isin(['Promise','NoTrust','Trust'])].reset_index()\n",
        "    df = df[['Condition', 'PromiseStage', 'Stage','payoff','accuracy','init_time','response', 'rt','tTrajectory', 'time_experiment',\n",
        "             'xTrajectory', 'yTrajectory']]\n",
        "\n",
        "\n",
        "    # when reading a csv read_csv reads arrays/lists as a string.\n",
        "    # so literal_eval them to get the array first and then convert the array to numpy arrays for future procecssing\n",
        "    df['tTrajectory'] = df['tTrajectory'].apply(lambda x: np.array(literal_eval(x)))\n",
        "    df['xTrajectory'] = df['xTrajectory'].apply(lambda x: np.array(literal_eval(x)))\n",
        "    df['yTrajectory'] = df['yTrajectory'].apply(lambda x: np.array(literal_eval(x)))\n",
        "    make_figure(df[['xTrajectory','yTrajectory']], f + '_1.jpg',(idx + 1,'Raw Trajectory'))\n",
        "\n",
        "\n",
        "    # regularize start and end of every trial. Start (0,0). End (-1,1.5) if x decreases i.e left movement  else (1,1.5)\n",
        "    df['xTrajectory'] = df['xTrajectory'].apply(lambda x: standardize_x(x))\n",
        "    df['yTrajectory'] = df['yTrajectory'].apply(lambda y: standardize_y(y))\n",
        "\n",
        "    #normalize trajectory by mapping each trial trajectory into 101 evenly spaced time-bins\n",
        "    df['t_norm'] = df['tTrajectory'].apply(lambda x: np.linspace(x.min(), x.max(),101))\n",
        "    df['x_norm'] = df[['tTrajectory', 'xTrajectory', 't_norm']].apply(lambda x: time_normalize(x), axis=1)\n",
        "    df['y_norm'] = df[['tTrajectory', 'yTrajectory', 't_norm']].apply(lambda x: time_normalize(x), axis=1)\n",
        "    # axis=1 required in apply since by default it applies on a series containing rows of each column i.e. axis=0\n",
        "    make_figure(df[['x_norm','y_norm']], f + '_2.jpg',(idx + 1,'Normalized Trajectory'))\n",
        "\n",
        "    # flip all trajectories to the right for comparison\n",
        "    df['x_flip'] = df['x_norm'].apply(lambda x: flip_to_right_side(x))\n",
        "    make_figure(df[['x_flip', 'y_norm']], f + '_3.jpg',(idx + 1,'Flipped Trajectory'))\n",
        "\n",
        "\n",
        "    # add the participant code to the file\n",
        "    df['participant_id'] = idx + 1\n",
        "    if idx == 0:\n",
        "        combined_data = df[['participant_id','Condition','Stage','payoff','accuracy','init_time','time_experiment',\n",
        "                    'rt','t_norm','x_norm', 'y_norm','x_flip']]\n",
        "    else:\n",
        "        combined_data = pd.concat([\n",
        "            combined_data,\n",
        "            df[['participant_id','Condition','Stage','payoff','accuracy','init_time','time_experiment',\n",
        "                'rt','t_norm','x_norm', 'y_norm','x_flip']]\n",
        "        ])\n",
        "# save the data after preprocesing\n",
        "combined_data.to_csv(path.join(resultsrc,'Combined_data.csv'),index=False,header=True)\n",
        "tmpdf = pd.DataFrame(participant_id,columns=['file','participant_id'])\n",
        "tmpdf.to_csv(path.join(resultsrc,'participant_ids.csv'),index=False,header=True)"
      ],
      "execution_count": 58,
      "outputs": []
    },
    {
      "cell_type": "markdown",
      "metadata": {
        "id": "VaREoCVWFkgd"
      },
      "source": [
        "# **Analysis**\n",
        "\n"
      ]
    },
    {
      "cell_type": "code",
      "metadata": {
        "id": "FfHpAhMFR8S8"
      },
      "source": [
        "#reset the index of the concatenated DF\n",
        "#ensure accuracy is numeric since it will be used in calculation\n",
        "combined_data.reset_index(drop=True,inplace=True)\n",
        "combined_data['accuracy'] = pd.to_numeric(combined_data['accuracy'])"
      ],
      "execution_count": 183,
      "outputs": []
    },
    {
      "cell_type": "code",
      "metadata": {
        "id": "hkiVwwYPLI8l"
      },
      "source": [
        "\"\"\"\n",
        "What was the promise made by the subject:\n",
        "Available in the rows with the 'Promise' condition. 2 valid types 'sometimes' and 'always'.\n",
        "Set 'promise' of all other rows i.e the Payback rows to 'na' at this stage\n",
        "\"\"\"\n",
        "conditions = [\n",
        "    (combined_data['Condition'] == 'Promise') & (combined_data['accuracy'] == 0),\n",
        "    (combined_data['Condition'] == 'Promise') & (combined_data['accuracy'] == 1),\n",
        "    combined_data['Condition'] != 'Promise'\n",
        "]\n",
        "values = ['sometimes', 'always', 'na']\n",
        "combined_data['promise'] = np.select(conditions, values)"
      ],
      "execution_count": 184,
      "outputs": []
    },
    {
      "cell_type": "code",
      "metadata": {
        "id": "jFSW0P__Oy7c"
      },
      "source": [
        "\"\"\"\n",
        "Tag 'promise' each Payback row with the promise made in the last Promise trial before that set of Payback trails.\n",
        "For the 3 payback rows after every promise row the promise stays the same.\n",
        "1. find the index of the promise rows and the promise value\n",
        "2. list comprehension: select the promise value of a promise row and repeat the promise value for 4 successive rows starting from the first promise row\n",
        "3. reassign this list to the promise column of the DF\n",
        "\"\"\"\n",
        "promises = combined_data[combined_data['Condition'] == 'Promise']['promise'].reset_index(level=0)\n",
        "vals = [combined_data.iloc[i]['promise'] for i in promises['index'].to_list() for _ in range(4)]\n",
        "combined_data['promise'] = vals"
      ],
      "execution_count": 185,
      "outputs": []
    },
    {
      "cell_type": "code",
      "metadata": {
        "id": "lzmFYor7PQxc"
      },
      "source": [
        "\"\"\"\n",
        "For each trial tag the outcome. Valid only for Payback trials. \n",
        "Outcome is break if promise is broken and keep if promise is kept.\n",
        "Promise trial has no outcome(will be set to 'na).\n",
        "\"\"\"\n",
        "payoff_condition = [(combined_data['Stage'] == 'Payback') & (combined_data['accuracy'] == 0),\n",
        "                    (combined_data['Stage'] == 'Payback') & (combined_data['accuracy'] == 1),\n",
        "                    (combined_data['Stage'] != 'Payback')\n",
        "                    ]\n",
        "condition_values = ['break', 'keep', 'na']\n",
        "combined_data['outcome'] = np.select(payoff_condition, condition_values)"
      ],
      "execution_count": 186,
      "outputs": []
    },
    {
      "cell_type": "code",
      "metadata": {
        "id": "tMyN4gMRqNE5"
      },
      "source": [
        "# segregate the two sets of trials..ones where outcome is keep and the other where outcome is break\n",
        "# difference with the main paper: removed the not trusted trial since then no investment has been made anyway\n",
        "keep_trials = combined_data[\n",
        "                            (combined_data['Condition'] == 'Trust') & \n",
        "                            (combined_data['Stage'] == 'Payback') & \n",
        "                            (combined_data['promise'] == 'always') & \n",
        "                            (combined_data['outcome'] == 'keep')\n",
        "                            ]\n",
        "break_trials = combined_data[\n",
        "                             (combined_data['Condition'] == 'Trust') & \n",
        "                             (combined_data['Stage'] == 'Payback') & \n",
        "                             (combined_data['promise'] == 'always') & \n",
        "                             (combined_data['outcome'] == 'break')\n",
        "                             ]\n"
      ],
      "execution_count": 187,
      "outputs": []
    },
    {
      "cell_type": "code",
      "metadata": {
        "colab": {
          "base_uri": "https://localhost:8080/",
          "height": 279
        },
        "id": "jcRjR4kwtGxM",
        "outputId": "0b520715-8a78-42a0-fea5-93d4a93b33d6"
      },
      "source": [
        "\"\"\"\n",
        "compare the average trajectory of keep and break situations\n",
        "\"\"\"\n",
        "xsk = keep_trials['x_flip'].sum() / keep_trials.shape[0]\n",
        "ysk = keep_trials['y_norm'].sum() / keep_trials.shape[0]\n",
        "\n",
        "xsb = break_trials['x_flip'].sum() / break_trials.shape[0]\n",
        "ysb = break_trials['y_norm'].sum() / break_trials.shape[0]\n",
        "\n",
        "fig, ax = plt.subplots()\n",
        "ax.set_ylabel('Vertical Mouse Position')\n",
        "ax.set_yticks(np.linspace(0,1.5,6))\n",
        "ax.set_xlabel('Horizontal Mouse Position')\n",
        "ax.set_xticks(np.linspace(0,1.0,5))\n",
        "ax = plt.plot(xsk,ysk,color='green',label='Keep Trials')\n",
        "ax = plt.plot(xsb,ysb,color='red',label='Break Trials')\n",
        "plt.legend(loc='lower right')\n",
        "plt.show()"
      ],
      "execution_count": 205,
      "outputs": [
        {
          "output_type": "display_data",
          "data": {
            "image/png": "[encoded data removed]",
            "text/plain": [
              "<Figure size 432x288 with 1 Axes>"
            ]
          },
          "metadata": {
            "tags": [],
            "needs_background": "light"
          }
        }
      ]
    },
    {
      "cell_type": "code",
      "metadata": {
        "id": "aKw2--Fx022Q"
      },
      "source": [
        "# keep only the data of payback trails and trust condition. Removed the notrusted trial since no investments made in these cases\n",
        "filtered = combined_data[(combined_data['Condition'] == 'Trust') & \n",
        "                             (combined_data['Stage'] == 'Payback')]"
      ],
      "execution_count": 215,
      "outputs": []
    },
    {
      "cell_type": "code",
      "metadata": {
        "colab": {
          "base_uri": "https://localhost:8080/"
        },
        "id": "L9BGQDHpxLxX",
        "outputId": "24acf55e-6e19-4666-cbf4-7235b37ebf11"
      },
      "source": [
        "\"\"\"\n",
        "Identify subjects who always promised 'always' and those who promsied both 'sometimes' and 'always'\n",
        "\"\"\"\n",
        "subject_data = filtered.groupby(['participant_id'])['promise'].value_counts(normalize=True).reset_index(name='val')\n",
        "always_promise_subjects = subject_perf[(subject_perf['promise'] == 'always') & (subject_perf['val'] == 1)]['participant_id'].unique()\n",
        "mixed_promise_subjects = subject_perf[~subject_perf['participant_id'].isin(always_promise_subjects)]['participant_id'].unique()\n",
        "print(len(always_promise_subjects),len(mixed_promise_subjects))\n",
        "print(always_promise_subjects)\n",
        "print(mixed_promise_subjects)"
      ],
      "execution_count": 226,
      "outputs": [
        {
          "output_type": "stream",
          "text": [
            "27 21\n",
            "[ 1  4  5  7  8  9 10 13 15 16 18 19 23 24 25 26 28 29 30 33 36 42 44 45\n",
            " 46 47 48]\n",
            "[ 2  3  6 11 12 14 17 20 21 22 27 31 32 34 35 37 38 39 40 41 43]\n"
          ],
          "name": "stdout"
        }
      ]
    },
    {
      "cell_type": "code",
      "metadata": {
        "colab": {
          "base_uri": "https://localhost:8080/",
          "height": 282
        },
        "id": "njp_J72L0Dl1",
        "outputId": "d645dc02-208d-49ea-aa74-52a182663009"
      },
      "source": [
        "\"\"\"\n",
        "Average percentages of keep (green bars) and break (red bars) decisions as a function of promise decisions (“ALWAYS” vs. “SOMETIMES”).\n",
        "\"\"\"\n",
        "behavior = filtered.groupby(['participant_id'])['outcome'].value_counts(normalize=True).reset_index(name='val')\n",
        "behavior['val'] = behavior['val'] * 100\n",
        "behavior['group'] = 'Always Promises'\n",
        "behavior.loc[behavior['participant_id'].isin(mixed_promise_subjects),'group'] = 'Sometimes Promises'\n",
        "fig, ax = plt.subplots()\n",
        "sns.barplot(data=behavior,x=behavior['outcome'], y=behavior['val'],hue=behavior['group'],ax=ax)\n",
        "plt.show()\n",
        "\n"
      ],
      "execution_count": 228,
      "outputs": [
        {
          "output_type": "display_data",
          "data": {
            "image/png": "[encoded data removed]",
            "text/plain": [
              "<Figure size 432x288 with 1 Axes>"
            ]
          },
          "metadata": {
            "tags": [],
            "needs_background": "light"
          }
        }
      ]
    },
    {
      "cell_type": "code",
      "metadata": {
        "colab": {
          "base_uri": "https://localhost:8080/",
          "height": 300
        },
        "id": "M-yHZEvW4xZq",
        "outputId": "6e34ec65-31c7-44d8-b1b9-32dee1547f42"
      },
      "source": [
        "\"\"\"\n",
        "The MD is the largest perpendicular deviation between the real trajectory and the theoretical trajectory (i.e., straight line connecting each trajectory’s start and endpoints) out of all\n",
        "time steps.\n",
        "\"\"\"\n",
        "x = np.array([1,1]).reshape(2,1)\n",
        "print(x)\n",
        "projection_m = np.dot(x,x.T) / np.dot(x.T,x)\n",
        "\n",
        "xs = np.array([1,2,3])\n",
        "ys = np.array([4,5,6])\n",
        "\n",
        "proj = np.dot(projection_m,np.stack((xs,ys)))\n",
        "\n",
        "perp = np.stack((xs,ys)) - proj\n",
        "\n",
        "fig, ax = plt.subplots()\n",
        "plt.plot([6,0],[6,0])\n",
        "plt.scatter(xs,ys,color='blue')\n",
        "plt.scatter(proj[0],proj[1],color='red')\n",
        "plt.scatter(perp[0],perp[1],color='green')\n",
        "plt.show()\n"
      ],
      "execution_count": 261,
      "outputs": [
        {
          "output_type": "stream",
          "text": [
            "[[1]\n",
            " [1]]\n"
          ],
          "name": "stdout"
        },
        {
          "output_type": "display_data",
          "data": {
            "image/png": "[encoded data removed]",
            "text/plain": [
              "<Figure size 432x288 with 1 Axes>"
            ]
          },
          "metadata": {
            "tags": [],
            "needs_background": "light"
          }
        }
      ]
    },
    {
      "cell_type": "code",
      "metadata": {
        "id": "9DUQkzZAuzVs"
      },
      "source": [
        ""
      ],
      "execution_count": null,
      "outputs": []
    }
  ]
}