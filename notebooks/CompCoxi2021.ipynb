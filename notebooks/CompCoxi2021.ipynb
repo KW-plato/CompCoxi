{
  "nbformat": 4,
  "nbformat_minor": 0,
  "metadata": {
    "colab": {
      "name": "CompCoxi2021.ipynb",
      "provenance": [],
      "authorship_tag": "ABX9TyO2Zc5C42h4c6pkN12IYh+z",
      "include_colab_link": true
    },
    "kernelspec": {
      "name": "python3",
      "display_name": "Python 3"
    },
    "language_info": {
      "name": "python"
    }
  },
  "cells": [
    {
      "cell_type": "markdown",
      "metadata": {
        "id": "view-in-github",
        "colab_type": "text"
      },
      "source": [
        "<a href=\"https://colab.research.google.com/github/KW-plato/CompCoxi/blob/main/notebooks/CompCoxi2021.ipynb\" target=\"_parent\"><img src=\"https://colab.research.google.com/assets/colab-badge.svg\" alt=\"Open In Colab\"/></a>"
      ]
    },
    {
      "cell_type": "markdown",
      "metadata": {
        "id": "T_g_UU1DsI70"
      },
      "source": [
        "\n",
        "**Create and upload master raw data file. Done.**\n",
        "\n",
        "Next Step:\n",
        "1. Calculate the metrics mentioned in the paper. \n",
        "Note: Develop and test script on small raw data files. Finally run on master raw data file to generate metrics for all subjects and all conditions."
      ]
    }
  ]
}